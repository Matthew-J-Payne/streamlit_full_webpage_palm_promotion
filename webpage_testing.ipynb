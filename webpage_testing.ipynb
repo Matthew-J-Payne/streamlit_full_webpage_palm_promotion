{
 "cells": [
  {
   "cell_type": "code",
   "execution_count": null,
   "metadata": {
    "collapsed": true,
    "pycharm": {
     "name": "#%%\n"
    }
   },
   "outputs": [],
   "source": []
  },
  {
   "cell_type": "code",
   "execution_count": 32,
   "outputs": [],
   "source": [
    "# conda env: deforestationdynamics\n",
    "import pandas as pd\n",
    "import geopandas as gpd\n",
    "import plotly.express as px\n",
    "import plotly.graph_objects as go\n",
    "from sklearn.linear_model import LinearRegression\n"
   ],
   "metadata": {
    "collapsed": false,
    "pycharm": {
     "name": "#%%\n"
    }
   }
  },
  {
   "cell_type": "code",
   "execution_count": null,
   "outputs": [],
   "source": [
    "#def regression():\n",
    "palm = pd.read_csv(\"palm_areaYear2001-2015_timeseries_quadrat_25km2.csv\")\n",
    "deforest = pd.read_csv(\"gfw_deforestation_with_distance_Year2001-2015_timeseries_quadrat_25km2.csv\")\n",
    "palm_area_perYear = palm.groupby(\"year_plant\", as_index = False)[\"areakm2\"].sum()\n",
    "deforest_area_perYear = deforest.groupby(\"year\", as_index = False)[\"areakm2\"].sum()\n",
    "palm_area_perYear[\"palm\"] = palm_area_perYear[\"areakm2\"]\n",
    "deforest_area_perYear[\"nonpalm\"] = deforest_area_perYear[\"areakm2\"]\n",
    "\n",
    "df = pd.concat([palm_area_perYear[\"palm\"], deforest_area_perYear[\"nonpalm\"]], ignore_index = True, axis = 1)\n",
    "df.rename(columns = {0: \"palm\", 1: \"nonpalm\"}, inplace = True)\n",
    "\n",
    "model = LinearRegression()\n",
    "model.fit(df[\"nonpalm\"].values.reshape(-1, 1), df[\"palm\"].values.reshape(-1, 1))\n",
    "\n",
    "fig = px.scatter(df, x='palm', y='nonpalm', opacity=0.65,\n",
    "       trendline='ols', trendline_color_override='darkblue')\n",
    "#fig.show()\n",
    "    #return fig\n",
    "import statsmodels.api as sm\n",
    "est = sm.OLS(df[\"nonpalm\"].values.reshape(-1, 1), df[\"palm\"].values.reshape(-1, 1))\n",
    "fitted = est.fit()\n",
    "print(fitted.summary())\n"
   ],
   "metadata": {
    "collapsed": false,
    "pycharm": {
     "name": "#%%\n",
     "is_executing": true
    }
   }
  },
  {
   "cell_type": "code",
   "execution_count": 48,
   "outputs": [
    {
     "name": "stdout",
     "output_type": "stream",
     "text": [
      "                                 OLS Regression Results                                \n",
      "=======================================================================================\n",
      "Dep. Variable:                      y   R-squared (uncentered):                   0.497\n",
      "Model:                            OLS   Adj. R-squared (uncentered):              0.452\n",
      "Method:                 Least Squares   F-statistic:                              10.89\n",
      "Date:                Thu, 01 Sep 2022   Prob (F-statistic):                     0.00709\n",
      "Time:                        15:35:52   Log-Likelihood:                         -25.142\n",
      "No. Observations:                  12   AIC:                                      52.28\n",
      "Df Residuals:                      11   BIC:                                      52.77\n",
      "Df Model:                           1                                                  \n",
      "Covariance Type:            nonrobust                                                  \n",
      "==============================================================================\n",
      "                 coef    std err          t      P>|t|      [0.025      0.975]\n",
      "------------------------------------------------------------------------------\n",
      "x1             0.9620      0.292      3.299      0.007       0.320       1.604\n",
      "==============================================================================\n",
      "Omnibus:                        0.498   Durbin-Watson:                   1.843\n",
      "Prob(Omnibus):                  0.780   Jarque-Bera (JB):                0.550\n",
      "Skew:                           0.334   Prob(JB):                        0.759\n",
      "Kurtosis:                       2.191   Cond. No.                         1.00\n",
      "==============================================================================\n",
      "\n",
      "Notes:\n",
      "[1] R² is computed without centering (uncentered) since the model does not contain a constant.\n",
      "[2] Standard Errors assume that the covariance matrix of the errors is correctly specified.\n"
     ]
    },
    {
     "name": "stderr",
     "output_type": "stream",
     "text": [
      "C:\\Users\\matth\\anaconda3\\envs\\deforestationdynamics\\lib\\site-packages\\scipy\\stats\\_stats_py.py:1477: UserWarning:\n",
      "\n",
      "kurtosistest only valid for n>=20 ... continuing anyway, n=12\n",
      "\n"
     ]
    }
   ],
   "source": [
    "df[\"shifted\"] = df[\"nonpalm\"].shift(3)\n",
    "df\n",
    "est = sm.OLS(df[\"shifted\"].values.reshape(-1, 1), df[\"palm\"].values.reshape(-1, 1),\n",
    "             missing = \"drop\")\n",
    "fitted = est.fit()\n",
    "print(fitted.summary())"
   ],
   "metadata": {
    "collapsed": false,
    "pycharm": {
     "name": "#%%\n"
    }
   }
  }
 ],
 "metadata": {
  "kernelspec": {
   "name": "deforestationdynamics",
   "language": "python",
   "display_name": "Python (deforestationdynamics)"
  },
  "language_info": {
   "codemirror_mode": {
    "name": "ipython",
    "version": 2
   },
   "file_extension": ".py",
   "mimetype": "text/x-python",
   "name": "python",
   "nbconvert_exporter": "python",
   "pygments_lexer": "ipython2",
   "version": "2.7.6"
  }
 },
 "nbformat": 4,
 "nbformat_minor": 0
}